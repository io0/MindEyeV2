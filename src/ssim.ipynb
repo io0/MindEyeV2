{
 "cells": [
  {
   "cell_type": "code",
   "execution_count": 3,
   "id": "2f12f2fd-9c88-47f5-b687-2feec6fede8e",
   "metadata": {},
   "outputs": [],
   "source": [
    "import cv2\n",
    "from skimage.metrics import structural_similarity as ssim\n",
    "import numpy as np\n",
    "import os\n",
    "from tqdm import tqdm\n",
    "from skimage.metrics import mean_squared_error\n",
    "from skimage import img_as_float\n",
    "\n",
    "def calculate_metrics(directory1, directory2, image_count=30000, standard_size=(512, 512), win_size=3):\n",
    "    ssim_scores = []\n",
    "    mse_scores=[]\n",
    "\n",
    "    # Check if both directories have exactly 30000 images\n",
    "    if len(os.listdir(directory1)) != image_count or len(os.listdir(directory2)) != image_count:\n",
    "        raise ValueError(\"Both directories must contain exactly 30,000 images.\")\n",
    "\n",
    "    for i in tqdm(range(image_count), desc=\"Calculating SSIM\"):\n",
    "        img_name = f'img{i}.jpg'\n",
    "        img_path1 = os.path.join(directory1, img_name)\n",
    "        img_path2 = os.path.join(directory2, img_name)\n",
    "\n",
    "        if not os.path.isfile(img_path1) or not os.path.isfile(img_path2):\n",
    "            raise FileNotFoundError(f\"Image {img_name} not found in one of the directories.\")\n",
    "\n",
    "        # Load and process images\n",
    "        image1 = cv2.imread(img_path1)\n",
    "        image2 = cv2.imread(img_path2)\n",
    "\n",
    "        # Resize images\n",
    "        image1 = cv2.resize(image1, standard_size)\n",
    "        image2 = cv2.resize(image2, standard_size)\n",
    "\n",
    "        # Compute SSIM between two images\n",
    "        mse = mean_squared_error(image1, image2)\n",
    "        score = ssim(image1, image2, multichannel=True, win_size=win_size)\n",
    "        ssim_scores.append(score)\n",
    "        mse_scores.append(mse)\n",
    "\n",
    "    # Compute average SSIM\n",
    "    average_ssim = np.mean(ssim_scores)\n",
    "    average_mse = np.mean(mse_scores)\n",
    "    return average_ssim,average_mse\n",
    "\n",
    "# Directories containing your images\n",
    "real_images_dir = '/weka/proj-fmri/shared/coco/sampled_imgs'\n",
    "generated_images_dir = '/weka/proj-fmri/shared/coco/xlunclip_imgs'\n",
    "\n"
   ]
  },
  {
   "cell_type": "code",
   "execution_count": 2,
   "id": "55242194-908e-45f9-ad4d-8714a1872331",
   "metadata": {},
   "outputs": [
    {
     "name": "stderr",
     "output_type": "stream",
     "text": [
      "Calculating SSIM: 100%|████████████████████████████████████████████████████████████████████████████████████████████████████████████████████████████| 30000/30000 [1:16:31<00:00,  6.53it/s]"
     ]
    },
    {
     "name": "stdout",
     "output_type": "stream",
     "text": [
      "Average SSIM: 0.23631854792393547\n",
      "Average MSE: 10188.122414026855\n"
     ]
    },
    {
     "name": "stderr",
     "output_type": "stream",
     "text": [
      "\n"
     ]
    }
   ],
   "source": [
    "average_ssim, average_mse = calculate_metrics(real_images_dir, generated_images_dir)\n",
    "print(f'Average SSIM: {average_ssim}')\n",
    "print(f'Average MSE: {average_mse}')"
   ]
  },
  {
   "cell_type": "code",
   "execution_count": 4,
   "id": "0cccace8-a092-4eb2-b179-69cfbca07255",
   "metadata": {},
   "outputs": [
    {
     "name": "stderr",
     "output_type": "stream",
     "text": [
      "Calculating SSIM: 100%|████████████████████████████████████████████████████████████████████████████████████████████████████████████████████████████| 30000/30000 [2:03:50<00:00,  4.04it/s]"
     ]
    },
    {
     "name": "stdout",
     "output_type": "stream",
     "text": [
      "Average SSIM: 0.4762611792756796\n",
      "Average MSE: 3880.7134732752484\n"
     ]
    },
    {
     "name": "stderr",
     "output_type": "stream",
     "text": [
      "\n"
     ]
    }
   ],
   "source": [
    "average_ssim, average_mse = calculate_metrics(real_images_dir, generated_images_dir)\n",
    "print(f'Average SSIM: {average_ssim}')\n",
    "print(f'Average MSE: {average_mse}')"
   ]
  },
  {
   "cell_type": "code",
   "execution_count": null,
   "id": "0aacc95c-4e46-4626-ad63-6ca9edd25d13",
   "metadata": {},
   "outputs": [],
   "source": []
  }
 ],
 "metadata": {
  "kernelspec": {
   "display_name": "Python 3 (ipykernel)",
   "language": "python",
   "name": "python3"
  },
  "language_info": {
   "codemirror_mode": {
    "name": "ipython",
    "version": 3
   },
   "file_extension": ".py",
   "mimetype": "text/x-python",
   "name": "python",
   "nbconvert_exporter": "python",
   "pygments_lexer": "ipython3",
   "version": "3.10.8"
  }
 },
 "nbformat": 4,
 "nbformat_minor": 5
}
